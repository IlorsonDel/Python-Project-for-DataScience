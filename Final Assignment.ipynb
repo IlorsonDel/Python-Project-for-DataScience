{
 "cells": [
  {
   "cell_type": "markdown",
   "metadata": {},
   "source": [
    "<p style=\"text-align:center\">\n",
    "    <a href=\"https://skills.network/?utm_medium=Exinfluencer&utm_source=Exinfluencer&utm_content=000026UJ&utm_term=10006555&utm_id=NA-SkillsNetwork-Channel-SkillsNetworkCoursesIBMDeveloperSkillsNetworkPY0220ENSkillsNetwork900-2022-01-01\" target=\"_blank\">\n",
    "    <img src=\"https://cf-courses-data.s3.us.cloud-object-storage.appdomain.cloud/assets/logos/SN_web_lightmode.png\" width=\"200\" alt=\"Skills Network Logo\">\n",
    "    </a>\n",
    "</p>\n"
   ]
  },
  {
   "cell_type": "markdown",
   "metadata": {},
   "source": [
    "<h1>Extracting and Visualizing Stock Data</h1>\n",
    "<h2>Description</h2>\n"
   ]
  },
  {
   "cell_type": "markdown",
   "metadata": {},
   "source": [
    "Extracting essential data from a dataset and displaying it is a necessary part of data science; therefore individuals can make correct decisions based on the data. In this assignment, you will extract some stock data, you will then display this data in a graph.\n"
   ]
  },
  {
   "cell_type": "markdown",
   "metadata": {},
   "source": [
    "<h2>Table of Contents</h2>\n",
    "<div class=\"alert alert-block alert-info\" style=\"margin-top: 20px\">\n",
    "    <ul>\n",
    "        <li>Define a Function that Makes a Graph</li>\n",
    "        <li>Question 1: Use yfinance to Extract Stock Data</li>\n",
    "        <li>Question 2: Use Webscraping to Extract Tesla Revenue Data</li>\n",
    "        <li>Question 3: Use yfinance to Extract Stock Data</li>\n",
    "        <li>Question 4: Use Webscraping to Extract GME Revenue Data</li>\n",
    "        <li>Question 5: Plot Tesla Stock Graph</li>\n",
    "        <li>Question 6: Plot GameStop Stock Graph</li>\n",
    "    </ul>\n",
    "<p>\n",
    "    Estimated Time Needed: <strong>30 min</strong></p>\n",
    "</div>\n",
    "\n",
    "<hr>\n"
   ]
  },
  {
   "cell_type": "markdown",
   "metadata": {},
   "source": [
    "***Note***:- If you are working Locally using anaconda, please uncomment the following code and execute it.\n"
   ]
  },
  {
   "cell_type": "code",
   "execution_count": 1,
   "metadata": {},
   "outputs": [
    {
     "name": "stdout",
     "output_type": "stream",
     "text": [
      "Collecting yfinance==0.2.38\n",
      "  Obtaining dependency information for yfinance==0.2.38 from https://files.pythonhosted.org/packages/d5/b5/70bb98ee38ce532ee29fab76fb668382291fe6e1aa69a8c1ac7e6bc108e7/yfinance-0.2.38-py2.py3-none-any.whl.metadata\n",
      "  Downloading yfinance-0.2.38-py2.py3-none-any.whl.metadata (11 kB)\n",
      "Requirement already satisfied: pandas>=1.3.0 in c:\\programdata\\anaconda3\\lib\\site-packages (from yfinance==0.2.38) (2.0.3)\n",
      "Requirement already satisfied: numpy>=1.16.5 in c:\\programdata\\anaconda3\\lib\\site-packages (from yfinance==0.2.38) (1.24.3)\n",
      "Requirement already satisfied: requests>=2.31 in c:\\programdata\\anaconda3\\lib\\site-packages (from yfinance==0.2.38) (2.31.0)\n",
      "Collecting multitasking>=0.0.7 (from yfinance==0.2.38)\n",
      "  Obtaining dependency information for multitasking>=0.0.7 from https://files.pythonhosted.org/packages/3e/8a/bb3160e76e844db9e69a413f055818969c8acade64e1a9ac5ce9dfdcf6c1/multitasking-0.0.11-py3-none-any.whl.metadata\n",
      "  Downloading multitasking-0.0.11-py3-none-any.whl.metadata (5.5 kB)\n",
      "Requirement already satisfied: lxml>=4.9.1 in c:\\programdata\\anaconda3\\lib\\site-packages (from yfinance==0.2.38) (4.9.3)\n",
      "Requirement already satisfied: appdirs>=1.4.4 in c:\\programdata\\anaconda3\\lib\\site-packages (from yfinance==0.2.38) (1.4.4)\n",
      "Requirement already satisfied: pytz>=2022.5 in c:\\programdata\\anaconda3\\lib\\site-packages (from yfinance==0.2.38) (2023.3.post1)\n",
      "Collecting frozendict>=2.3.4 (from yfinance==0.2.38)\n",
      "  Downloading frozendict-2.4.4.tar.gz (315 kB)\n",
      "     ---------------------------------------- 0.0/315.9 kB ? eta -:--:--\n",
      "     - -------------------------------------- 10.2/315.9 kB ? eta -:--:--\n",
      "     - -------------------------------------- 10.2/315.9 kB ? eta -:--:--\n",
      "     --- --------------------------------- 30.7/315.9 kB 262.6 kB/s eta 0:00:02\n",
      "     ---- -------------------------------- 41.0/315.9 kB 179.6 kB/s eta 0:00:02\n",
      "     ------- ----------------------------- 61.4/315.9 kB 252.2 kB/s eta 0:00:02\n",
      "     -------- ---------------------------- 71.7/315.9 kB 262.6 kB/s eta 0:00:01\n",
      "     ---------- -------------------------- 92.2/315.9 kB 291.5 kB/s eta 0:00:01\n",
      "     ----------------- ------------------ 153.6/315.9 kB 382.3 kB/s eta 0:00:01\n",
      "     ----------------------- ------------ 204.8/315.9 kB 479.2 kB/s eta 0:00:01\n",
      "     ------------------------- ---------- 225.3/315.9 kB 492.1 kB/s eta 0:00:01\n",
      "     ------------------------------ ----- 266.2/315.9 kB 497.1 kB/s eta 0:00:01\n",
      "     ------------------------------------ 315.9/315.9 kB 559.9 kB/s eta 0:00:00\n",
      "  Installing build dependencies: started\n",
      "  Installing build dependencies: finished with status 'done'\n",
      "  Getting requirements to build wheel: started\n",
      "  Getting requirements to build wheel: finished with status 'done'\n",
      "  Preparing metadata (pyproject.toml): started\n",
      "  Preparing metadata (pyproject.toml): finished with status 'done'\n",
      "Collecting peewee>=3.16.2 (from yfinance==0.2.38)\n",
      "  Downloading peewee-3.17.3.tar.gz (3.0 MB)\n",
      "     ---------------------------------------- 0.0/3.0 MB ? eta -:--:--\n",
      "     - -------------------------------------- 0.1/3.0 MB 3.6 MB/s eta 0:00:01\n",
      "     --- ------------------------------------ 0.3/3.0 MB 3.2 MB/s eta 0:00:01\n",
      "     --- ------------------------------------ 0.3/3.0 MB 3.2 MB/s eta 0:00:01\n",
      "     ---- ----------------------------------- 0.3/3.0 MB 1.6 MB/s eta 0:00:02\n",
      "     ------ --------------------------------- 0.5/3.0 MB 1.8 MB/s eta 0:00:02\n",
      "     -------- ------------------------------- 0.6/3.0 MB 2.2 MB/s eta 0:00:02\n",
      "     ---------- ----------------------------- 0.7/3.0 MB 2.2 MB/s eta 0:00:01\n",
      "     ----------- ---------------------------- 0.8/3.0 MB 2.2 MB/s eta 0:00:01\n",
      "     ------------- -------------------------- 1.0/3.0 MB 2.3 MB/s eta 0:00:01\n",
      "     --------------- ------------------------ 1.1/3.0 MB 2.4 MB/s eta 0:00:01\n",
      "     ----------------- ---------------------- 1.3/3.0 MB 2.4 MB/s eta 0:00:01\n",
      "     ------------------- -------------------- 1.5/3.0 MB 2.5 MB/s eta 0:00:01\n",
      "     --------------------- ------------------ 1.6/3.0 MB 2.6 MB/s eta 0:00:01\n",
      "     ---------------------- ----------------- 1.7/3.0 MB 2.6 MB/s eta 0:00:01\n",
      "     ---------------------- ----------------- 1.7/3.0 MB 2.6 MB/s eta 0:00:01\n",
      "     ---------------------- ----------------- 1.7/3.0 MB 2.6 MB/s eta 0:00:01\n",
      "     ---------------------- ----------------- 1.7/3.0 MB 2.6 MB/s eta 0:00:01\n",
      "     ---------------------- ----------------- 1.7/3.0 MB 2.6 MB/s eta 0:00:01\n",
      "     ----------------------- ---------------- 1.7/3.0 MB 1.8 MB/s eta 0:00:01\n",
      "     ------------------------ --------------- 1.8/3.0 MB 1.9 MB/s eta 0:00:01\n",
      "     ------------------------ --------------- 1.8/3.0 MB 1.9 MB/s eta 0:00:01\n",
      "     ------------------------ --------------- 1.8/3.0 MB 1.9 MB/s eta 0:00:01\n",
      "     ------------------------ --------------- 1.8/3.0 MB 1.9 MB/s eta 0:00:01\n",
      "     ----------------------------- ---------- 2.2/3.0 MB 1.8 MB/s eta 0:00:01\n",
      "     ---------------------------------------  2.9/3.0 MB 2.4 MB/s eta 0:00:01\n",
      "     ---------------------------------------  2.9/3.0 MB 2.4 MB/s eta 0:00:01\n",
      "     ---------------------------------------  2.9/3.0 MB 2.4 MB/s eta 0:00:01\n",
      "     ---------------------------------------  2.9/3.0 MB 2.2 MB/s eta 0:00:01\n",
      "     ---------------------------------------- 3.0/3.0 MB 2.1 MB/s eta 0:00:00\n",
      "  Installing build dependencies: started\n",
      "  Installing build dependencies: finished with status 'done'\n",
      "  Getting requirements to build wheel: started\n",
      "  Getting requirements to build wheel: finished with status 'done'\n",
      "  Preparing metadata (pyproject.toml): started\n",
      "  Preparing metadata (pyproject.toml): finished with status 'done'\n",
      "Requirement already satisfied: beautifulsoup4>=4.11.1 in c:\\programdata\\anaconda3\\lib\\site-packages (from yfinance==0.2.38) (4.12.2)\n",
      "Collecting html5lib>=1.1 (from yfinance==0.2.38)\n",
      "  Obtaining dependency information for html5lib>=1.1 from https://files.pythonhosted.org/packages/6c/dd/a834df6482147d48e225a49515aabc28974ad5a4ca3215c18a882565b028/html5lib-1.1-py2.py3-none-any.whl.metadata\n",
      "  Downloading html5lib-1.1-py2.py3-none-any.whl.metadata (16 kB)\n",
      "Requirement already satisfied: soupsieve>1.2 in c:\\programdata\\anaconda3\\lib\\site-packages (from beautifulsoup4>=4.11.1->yfinance==0.2.38) (2.4)\n",
      "Requirement already satisfied: six>=1.9 in c:\\programdata\\anaconda3\\lib\\site-packages (from html5lib>=1.1->yfinance==0.2.38) (1.16.0)\n",
      "Requirement already satisfied: webencodings in c:\\programdata\\anaconda3\\lib\\site-packages (from html5lib>=1.1->yfinance==0.2.38) (0.5.1)\n",
      "Requirement already satisfied: python-dateutil>=2.8.2 in c:\\programdata\\anaconda3\\lib\\site-packages (from pandas>=1.3.0->yfinance==0.2.38) (2.8.2)\n",
      "Requirement already satisfied: tzdata>=2022.1 in c:\\programdata\\anaconda3\\lib\\site-packages (from pandas>=1.3.0->yfinance==0.2.38) (2023.3)\n",
      "Requirement already satisfied: charset-normalizer<4,>=2 in c:\\programdata\\anaconda3\\lib\\site-packages (from requests>=2.31->yfinance==0.2.38) (2.0.4)\n",
      "Requirement already satisfied: idna<4,>=2.5 in c:\\programdata\\anaconda3\\lib\\site-packages (from requests>=2.31->yfinance==0.2.38) (3.4)\n",
      "Requirement already satisfied: urllib3<3,>=1.21.1 in c:\\programdata\\anaconda3\\lib\\site-packages (from requests>=2.31->yfinance==0.2.38) (1.26.16)\n",
      "Requirement already satisfied: certifi>=2017.4.17 in c:\\programdata\\anaconda3\\lib\\site-packages (from requests>=2.31->yfinance==0.2.38) (2024.2.2)\n",
      "Downloading yfinance-0.2.38-py2.py3-none-any.whl (72 kB)\n",
      "   ---------------------------------------- 0.0/73.0 kB ? eta -:--:--\n",
      "   ---------------------------------------- 73.0/73.0 kB 3.9 MB/s eta 0:00:00\n",
      "Downloading html5lib-1.1-py2.py3-none-any.whl (112 kB)\n",
      "   ---------------------------------------- 0.0/112.2 kB ? eta -:--:--\n",
      "   ---------------------------------------- 112.2/112.2 kB 3.3 MB/s eta 0:00:00\n",
      "Downloading multitasking-0.0.11-py3-none-any.whl (8.5 kB)\n",
      "Building wheels for collected packages: frozendict, peewee\n",
      "  Building wheel for frozendict (pyproject.toml): started\n",
      "  Building wheel for frozendict (pyproject.toml): finished with status 'done'\n",
      "  Created wheel for frozendict: filename=frozendict-2.4.4-cp311-cp311-win_amd64.whl size=16070 sha256=cb724a0dddb93a5e4fe86da5b736cd805e35c796a2da6d489ecddedc7a6a5fc5\n",
      "  Stored in directory: c:\\users\\tagne\\appdata\\local\\pip\\cache\\wheels\\ca\\d4\\6d\\5662aad9c5f7e28a7f890b948436a074a503c90d3564a824a6\n",
      "  Building wheel for peewee (pyproject.toml): started\n",
      "  Building wheel for peewee (pyproject.toml): finished with status 'done'\n",
      "  Created wheel for peewee: filename=peewee-3.17.3-py3-none-any.whl size=138453 sha256=6860f3498d5832dcb59418068f8c46513000a45db7a4848d64a754f5fb8a6e46\n",
      "  Stored in directory: c:\\users\\tagne\\appdata\\local\\pip\\cache\\wheels\\3e\\3d\\30\\a54ad8c2307aa653f234a6f651ab12fbc5cfbb3f383145ab6a\n",
      "Successfully built frozendict peewee\n",
      "Installing collected packages: peewee, multitasking, html5lib, frozendict, yfinance\n",
      "Successfully installed frozendict-2.4.4 html5lib-1.1 multitasking-0.0.11 peewee-3.17.3 yfinance-0.2.38\n"
     ]
    },
    {
     "name": "stdout",
     "output_type": "stream",
     "text": [
      "Collecting pandas==2.2.2\n",
      "  Obtaining dependency information for pandas==2.2.2 from https://files.pythonhosted.org/packages/ab/63/966db1321a0ad55df1d1fe51505d2cdae191b84c907974873817b0a6e849/pandas-2.2.2-cp311-cp311-win_amd64.whl.metadata\n",
      "  Downloading pandas-2.2.2-cp311-cp311-win_amd64.whl.metadata (19 kB)\n",
      "Requirement already satisfied: numpy>=1.23.2 in c:\\programdata\\anaconda3\\lib\\site-packages (from pandas==2.2.2) (1.24.3)\n",
      "Requirement already satisfied: python-dateutil>=2.8.2 in c:\\programdata\\anaconda3\\lib\\site-packages (from pandas==2.2.2) (2.8.2)\n",
      "Requirement already satisfied: pytz>=2020.1 in c:\\programdata\\anaconda3\\lib\\site-packages (from pandas==2.2.2) (2023.3.post1)\n",
      "Requirement already satisfied: tzdata>=2022.7 in c:\\programdata\\anaconda3\\lib\\site-packages (from pandas==2.2.2) (2023.3)\n",
      "Requirement already satisfied: six>=1.5 in c:\\programdata\\anaconda3\\lib\\site-packages (from python-dateutil>=2.8.2->pandas==2.2.2) (1.16.0)\n",
      "Downloading pandas-2.2.2-cp311-cp311-win_amd64.whl (11.6 MB)\n",
      "   ---------------------------------------- 0.0/11.6 MB ? eta -:--:--\n",
      "   ---------------------------------------- 0.0/11.6 MB ? eta -:--:--\n",
      "   ---------------------------------------- 0.0/11.6 MB ? eta -:--:--\n",
      "   ---------------------------------------- 0.0/11.6 MB 325.1 kB/s eta 0:00:36\n",
      "   ---------------------------------------- 0.0/11.6 MB 217.9 kB/s eta 0:00:54\n",
      "   ---------------------------------------- 0.1/11.6 MB 272.3 kB/s eta 0:00:43\n",
      "   ---------------------------------------- 0.1/11.6 MB 327.7 kB/s eta 0:00:36\n",
      "   ---------------------------------------- 0.1/11.6 MB 327.7 kB/s eta 0:00:36\n",
      "   ---------------------------------------- 0.1/11.6 MB 343.4 kB/s eta 0:00:34\n",
      "    --------------------------------------- 0.2/11.6 MB 471.4 kB/s eta 0:00:25\n",
      "    --------------------------------------- 0.2/11.6 MB 509.6 kB/s eta 0:00:23\n",
      "    --------------------------------------- 0.2/11.6 MB 450.6 kB/s eta 0:00:26\n",
      "   - -------------------------------------- 0.4/11.6 MB 636.5 kB/s eta 0:00:18\n",
      "   - -------------------------------------- 0.5/11.6 MB 773.5 kB/s eta 0:00:15\n",
      "   - -------------------------------------- 0.5/11.6 MB 773.5 kB/s eta 0:00:15\n",
      "   -- ------------------------------------- 0.6/11.6 MB 815.7 kB/s eta 0:00:14\n",
      "   -- ------------------------------------- 0.7/11.6 MB 983.0 kB/s eta 0:00:12\n",
      "   --- ------------------------------------ 0.9/11.6 MB 1.1 MB/s eta 0:00:10\n",
      "   --- ------------------------------------ 1.0/11.6 MB 1.2 MB/s eta 0:00:09\n",
      "   ---- ----------------------------------- 1.2/11.6 MB 1.3 MB/s eta 0:00:08\n",
      "   ---- ----------------------------------- 1.4/11.6 MB 1.4 MB/s eta 0:00:08\n",
      "   ----- ---------------------------------- 1.5/11.6 MB 1.5 MB/s eta 0:00:07\n",
      "   ----- ---------------------------------- 1.6/11.6 MB 1.6 MB/s eta 0:00:07\n",
      "   ----- ---------------------------------- 1.7/11.6 MB 1.6 MB/s eta 0:00:07\n",
      "   ----- ---------------------------------- 1.7/11.6 MB 1.6 MB/s eta 0:00:07\n",
      "   ----- ---------------------------------- 1.7/11.6 MB 1.6 MB/s eta 0:00:07\n",
      "   ----- ---------------------------------- 1.7/11.6 MB 1.6 MB/s eta 0:00:07\n",
      "   ----- ---------------------------------- 1.7/11.6 MB 1.6 MB/s eta 0:00:07\n",
      "   ----- ---------------------------------- 1.7/11.6 MB 1.6 MB/s eta 0:00:07\n",
      "   ----- ---------------------------------- 1.7/11.6 MB 1.6 MB/s eta 0:00:07\n",
      "   ----- ---------------------------------- 1.7/11.6 MB 1.6 MB/s eta 0:00:07\n",
      "   ----- ---------------------------------- 1.7/11.6 MB 1.6 MB/s eta 0:00:07\n",
      "   ----- ---------------------------------- 1.7/11.6 MB 1.1 MB/s eta 0:00:09\n",
      "   ----- ---------------------------------- 1.7/11.6 MB 1.1 MB/s eta 0:00:09\n",
      "   ----- ---------------------------------- 1.7/11.6 MB 1.1 MB/s eta 0:00:09\n",
      "   ----- ---------------------------------- 1.7/11.6 MB 1.1 MB/s eta 0:00:09\n",
      "   ------ --------------------------------- 1.8/11.6 MB 1.0 MB/s eta 0:00:10\n",
      "   ------ --------------------------------- 2.0/11.6 MB 1.1 MB/s eta 0:00:09\n",
      "   ------ --------------------------------- 2.0/11.6 MB 1.1 MB/s eta 0:00:09\n",
      "   ------- -------------------------------- 2.1/11.6 MB 1.1 MB/s eta 0:00:09\n",
      "   --------- ------------------------------ 2.7/11.6 MB 1.4 MB/s eta 0:00:07\n",
      "   --------- ------------------------------ 2.7/11.6 MB 1.4 MB/s eta 0:00:07\n",
      "   --------- ------------------------------ 2.7/11.6 MB 1.4 MB/s eta 0:00:07\n",
      "   --------- ------------------------------ 2.9/11.6 MB 1.4 MB/s eta 0:00:07\n",
      "   --------- ------------------------------ 2.9/11.6 MB 1.4 MB/s eta 0:00:07\n",
      "   --------- ------------------------------ 2.9/11.6 MB 1.4 MB/s eta 0:00:07\n",
      "   ---------- ----------------------------- 3.0/11.6 MB 1.3 MB/s eta 0:00:07\n",
      "   ---------- ----------------------------- 3.0/11.6 MB 1.3 MB/s eta 0:00:07\n",
      "   ---------- ----------------------------- 3.1/11.6 MB 1.4 MB/s eta 0:00:07\n",
      "   ---------- ----------------------------- 3.2/11.6 MB 1.4 MB/s eta 0:00:07\n",
      "   ----------- ---------------------------- 3.2/11.6 MB 1.3 MB/s eta 0:00:07\n",
      "   ----------- ---------------------------- 3.4/11.6 MB 1.4 MB/s eta 0:00:07\n",
      "   ----------- ---------------------------- 3.4/11.6 MB 1.4 MB/s eta 0:00:06\n",
      "   ----------- ---------------------------- 3.5/11.6 MB 1.4 MB/s eta 0:00:06\n",
      "   ------------ --------------------------- 3.6/11.6 MB 1.4 MB/s eta 0:00:06\n",
      "   ------------ --------------------------- 3.7/11.6 MB 1.4 MB/s eta 0:00:06\n",
      "   ------------- -------------------------- 3.8/11.6 MB 1.4 MB/s eta 0:00:06\n",
      "   ------------- -------------------------- 3.9/11.6 MB 1.4 MB/s eta 0:00:06\n",
      "   ------------- -------------------------- 4.1/11.6 MB 1.4 MB/s eta 0:00:06\n",
      "   -------------- ------------------------- 4.2/11.6 MB 1.5 MB/s eta 0:00:06\n",
      "   -------------- ------------------------- 4.2/11.6 MB 1.5 MB/s eta 0:00:06\n",
      "   -------------- ------------------------- 4.2/11.6 MB 1.5 MB/s eta 0:00:06\n",
      "   -------------- ------------------------- 4.2/11.6 MB 1.5 MB/s eta 0:00:06\n",
      "   -------------- ------------------------- 4.2/11.6 MB 1.5 MB/s eta 0:00:06\n",
      "   -------------- ------------------------- 4.2/11.6 MB 1.5 MB/s eta 0:00:06\n",
      "   -------------- ------------------------- 4.2/11.6 MB 1.5 MB/s eta 0:00:06\n",
      "   -------------- ------------------------- 4.2/11.6 MB 1.5 MB/s eta 0:00:06\n",
      "   -------------- ------------------------- 4.2/11.6 MB 1.3 MB/s eta 0:00:06\n",
      "   -------------- ------------------------- 4.2/11.6 MB 1.3 MB/s eta 0:00:06\n",
      "   -------------- ------------------------- 4.2/11.6 MB 1.3 MB/s eta 0:00:06\n",
      "   -------------- ------------------------- 4.2/11.6 MB 1.3 MB/s eta 0:00:06\n",
      "   -------------- ------------------------- 4.4/11.6 MB 1.3 MB/s eta 0:00:06\n",
      "   -------------- ------------------------- 4.4/11.6 MB 1.3 MB/s eta 0:00:06\n",
      "   -------------- ------------------------- 4.4/11.6 MB 1.3 MB/s eta 0:00:06\n",
      "   --------------- ------------------------ 4.4/11.6 MB 1.2 MB/s eta 0:00:06\n",
      "   --------------- ------------------------ 4.5/11.6 MB 1.3 MB/s eta 0:00:06\n",
      "   --------------- ------------------------ 4.5/11.6 MB 1.3 MB/s eta 0:00:06\n",
      "   --------------- ------------------------ 4.5/11.6 MB 1.3 MB/s eta 0:00:06\n",
      "   --------------- ------------------------ 4.6/11.6 MB 1.2 MB/s eta 0:00:06\n",
      "   --------------- ------------------------ 4.6/11.6 MB 1.2 MB/s eta 0:00:06\n",
      "   --------------- ------------------------ 4.6/11.6 MB 1.2 MB/s eta 0:00:06\n",
      "   ---------------- ----------------------- 4.7/11.6 MB 1.2 MB/s eta 0:00:06\n",
      "   ---------------- ----------------------- 4.8/11.6 MB 1.2 MB/s eta 0:00:06\n",
      "   ---------------- ----------------------- 4.9/11.6 MB 1.2 MB/s eta 0:00:06\n",
      "   ---------------- ----------------------- 4.9/11.6 MB 1.2 MB/s eta 0:00:06\n",
      "   ----------------- ---------------------- 4.9/11.6 MB 1.2 MB/s eta 0:00:06\n",
      "   ----------------- ---------------------- 5.1/11.6 MB 1.2 MB/s eta 0:00:06\n",
      "   ----------------- ---------------------- 5.1/11.6 MB 1.2 MB/s eta 0:00:06\n",
      "   ----------------- ---------------------- 5.1/11.6 MB 1.2 MB/s eta 0:00:06\n",
      "   ----------------- ---------------------- 5.2/11.6 MB 1.2 MB/s eta 0:00:06\n",
      "   ------------------ --------------------- 5.3/11.6 MB 1.2 MB/s eta 0:00:06\n",
      "   ------------------ --------------------- 5.4/11.6 MB 1.2 MB/s eta 0:00:05\n",
      "   ------------------- -------------------- 5.6/11.6 MB 1.3 MB/s eta 0:00:05\n",
      "   ------------------- -------------------- 5.7/11.6 MB 1.3 MB/s eta 0:00:05\n",
      "   -------------------- ------------------- 5.9/11.6 MB 1.3 MB/s eta 0:00:05\n",
      "   -------------------- ------------------- 6.1/11.6 MB 1.3 MB/s eta 0:00:05\n",
      "   --------------------- ------------------ 6.1/11.6 MB 1.3 MB/s eta 0:00:05\n",
      "   --------------------- ------------------ 6.1/11.6 MB 1.3 MB/s eta 0:00:05\n",
      "   --------------------- ------------------ 6.1/11.6 MB 1.3 MB/s eta 0:00:05\n",
      "   --------------------- ------------------ 6.1/11.6 MB 1.3 MB/s eta 0:00:05\n",
      "   --------------------- ------------------ 6.1/11.6 MB 1.3 MB/s eta 0:00:05\n",
      "   --------------------- ------------------ 6.1/11.6 MB 1.3 MB/s eta 0:00:05\n",
      "   --------------------- ------------------ 6.1/11.6 MB 1.3 MB/s eta 0:00:05\n",
      "   --------------------- ------------------ 6.2/11.6 MB 1.2 MB/s eta 0:00:05\n",
      "   --------------------- ------------------ 6.3/11.6 MB 1.3 MB/s eta 0:00:05\n",
      "   --------------------- ------------------ 6.3/11.6 MB 1.3 MB/s eta 0:00:05\n",
      "   --------------------- ------------------ 6.3/11.6 MB 1.3 MB/s eta 0:00:05\n",
      "   --------------------- ------------------ 6.4/11.6 MB 1.2 MB/s eta 0:00:05\n",
      "   ---------------------- ----------------- 6.4/11.6 MB 1.2 MB/s eta 0:00:05\n",
      "   ---------------------- ----------------- 6.4/11.6 MB 1.2 MB/s eta 0:00:05\n",
      "   ---------------------- ----------------- 6.4/11.6 MB 1.2 MB/s eta 0:00:05\n",
      "   ---------------------- ----------------- 6.6/11.6 MB 1.2 MB/s eta 0:00:05\n",
      "   ---------------------- ----------------- 6.6/11.6 MB 1.2 MB/s eta 0:00:05\n",
      "   ---------------------- ----------------- 6.6/11.6 MB 1.2 MB/s eta 0:00:05\n",
      "   ---------------------- ----------------- 6.6/11.6 MB 1.2 MB/s eta 0:00:05\n",
      "   ----------------------- ---------------- 6.7/11.6 MB 1.2 MB/s eta 0:00:05\n",
      "   ----------------------- ---------------- 6.7/11.6 MB 1.2 MB/s eta 0:00:05\n",
      "   ----------------------- ---------------- 6.7/11.6 MB 1.2 MB/s eta 0:00:05\n",
      "   ----------------------- ---------------- 6.8/11.6 MB 1.2 MB/s eta 0:00:05\n",
      "   ----------------------- ---------------- 6.8/11.6 MB 1.2 MB/s eta 0:00:05\n",
      "   ----------------------- ---------------- 6.8/11.6 MB 1.2 MB/s eta 0:00:05\n",
      "   ----------------------- ---------------- 6.8/11.6 MB 1.2 MB/s eta 0:00:05\n",
      "   ----------------------- ---------------- 6.9/11.6 MB 1.2 MB/s eta 0:00:05\n",
      "   ------------------------ --------------- 7.0/11.6 MB 1.2 MB/s eta 0:00:04\n",
      "   ------------------------ --------------- 7.2/11.6 MB 1.2 MB/s eta 0:00:04\n",
      "   ------------------------ --------------- 7.3/11.6 MB 1.2 MB/s eta 0:00:04\n",
      "   ------------------------- -------------- 7.4/11.6 MB 1.2 MB/s eta 0:00:04\n",
      "   ------------------------- -------------- 7.5/11.6 MB 1.2 MB/s eta 0:00:04\n",
      "   -------------------------- ------------- 7.7/11.6 MB 1.2 MB/s eta 0:00:04\n",
      "   -------------------------- ------------- 7.8/11.6 MB 1.2 MB/s eta 0:00:04\n",
      "   --------------------------- ------------ 7.9/11.6 MB 1.3 MB/s eta 0:00:03\n",
      "   --------------------------- ------------ 8.0/11.6 MB 1.3 MB/s eta 0:00:03\n",
      "   --------------------------- ------------ 8.1/11.6 MB 1.3 MB/s eta 0:00:03\n",
      "   --------------------------- ------------ 8.1/11.6 MB 1.3 MB/s eta 0:00:03\n",
      "   --------------------------- ------------ 8.1/11.6 MB 1.3 MB/s eta 0:00:03\n",
      "   --------------------------- ------------ 8.1/11.6 MB 1.3 MB/s eta 0:00:03\n",
      "   --------------------------- ------------ 8.1/11.6 MB 1.3 MB/s eta 0:00:03\n",
      "   --------------------------- ------------ 8.1/11.6 MB 1.3 MB/s eta 0:00:03\n",
      "   --------------------------- ------------ 8.1/11.6 MB 1.3 MB/s eta 0:00:03\n",
      "   ---------------------------- ----------- 8.4/11.6 MB 1.2 MB/s eta 0:00:03\n",
      "   ---------------------------- ----------- 8.4/11.6 MB 1.2 MB/s eta 0:00:03\n",
      "   ----------------------------- ---------- 8.4/11.6 MB 1.2 MB/s eta 0:00:03\n",
      "   ----------------------------- ---------- 8.4/11.6 MB 1.2 MB/s eta 0:00:03\n",
      "   ----------------------------- ---------- 8.5/11.6 MB 1.2 MB/s eta 0:00:03\n",
      "   ----------------------------- ---------- 8.6/11.6 MB 1.2 MB/s eta 0:00:03\n",
      "   ----------------------------- ---------- 8.6/11.6 MB 1.2 MB/s eta 0:00:03\n",
      "   ----------------------------- ---------- 8.6/11.6 MB 1.2 MB/s eta 0:00:03\n",
      "   ----------------------------- ---------- 8.7/11.6 MB 1.2 MB/s eta 0:00:03\n",
      "   ------------------------------ --------- 8.8/11.6 MB 1.2 MB/s eta 0:00:03\n",
      "   ------------------------------ --------- 8.9/11.6 MB 1.2 MB/s eta 0:00:03\n",
      "   ------------------------------ --------- 9.0/11.6 MB 1.2 MB/s eta 0:00:03\n",
      "   ------------------------------- -------- 9.1/11.6 MB 1.2 MB/s eta 0:00:03\n",
      "   ------------------------------- -------- 9.2/11.6 MB 1.3 MB/s eta 0:00:02\n",
      "   ------------------------------- -------- 9.3/11.6 MB 1.3 MB/s eta 0:00:02\n",
      "   -------------------------------- ------- 9.3/11.6 MB 1.3 MB/s eta 0:00:02\n",
      "   -------------------------------- ------- 9.3/11.6 MB 1.3 MB/s eta 0:00:02\n",
      "   -------------------------------- ------- 9.3/11.6 MB 1.3 MB/s eta 0:00:02\n",
      "   -------------------------------- ------- 9.3/11.6 MB 1.3 MB/s eta 0:00:02\n",
      "   -------------------------------- ------- 9.3/11.6 MB 1.3 MB/s eta 0:00:02\n",
      "   -------------------------------- ------- 9.3/11.6 MB 1.3 MB/s eta 0:00:02\n",
      "   -------------------------------- ------- 9.3/11.6 MB 1.3 MB/s eta 0:00:02\n",
      "   -------------------------------- ------- 9.6/11.6 MB 1.2 MB/s eta 0:00:02\n",
      "   --------------------------------- ------ 9.6/11.6 MB 1.2 MB/s eta 0:00:02\n",
      "   --------------------------------- ------ 9.7/11.6 MB 1.2 MB/s eta 0:00:02\n",
      "   --------------------------------- ------ 9.7/11.6 MB 1.2 MB/s eta 0:00:02\n",
      "   --------------------------------- ------ 9.7/11.6 MB 1.2 MB/s eta 0:00:02\n",
      "   --------------------------------- ------ 9.8/11.6 MB 1.2 MB/s eta 0:00:02\n",
      "   --------------------------------- ------ 9.8/11.6 MB 1.2 MB/s eta 0:00:02\n",
      "   --------------------------------- ------ 9.8/11.6 MB 1.2 MB/s eta 0:00:02\n",
      "   --------------------------------- ------ 9.9/11.6 MB 1.2 MB/s eta 0:00:02\n",
      "   ---------------------------------- ----- 9.9/11.6 MB 1.2 MB/s eta 0:00:02\n",
      "   ---------------------------------- ----- 10.0/11.6 MB 1.2 MB/s eta 0:00:02\n",
      "   ---------------------------------- ----- 10.1/11.6 MB 1.2 MB/s eta 0:00:02\n",
      "   ---------------------------------- ----- 10.1/11.6 MB 1.2 MB/s eta 0:00:02\n",
      "   ----------------------------------- ---- 10.2/11.6 MB 1.2 MB/s eta 0:00:02\n",
      "   ----------------------------------- ---- 10.3/11.6 MB 1.2 MB/s eta 0:00:02\n",
      "   ----------------------------------- ---- 10.4/11.6 MB 1.2 MB/s eta 0:00:02\n",
      "   ----------------------------------- ---- 10.4/11.6 MB 1.3 MB/s eta 0:00:01\n",
      "   ------------------------------------ --- 10.5/11.6 MB 1.3 MB/s eta 0:00:01\n",
      "   ------------------------------------ --- 10.6/11.6 MB 1.3 MB/s eta 0:00:01\n",
      "   ------------------------------------ --- 10.6/11.6 MB 1.3 MB/s eta 0:00:01\n",
      "   ------------------------------------ --- 10.7/11.6 MB 1.3 MB/s eta 0:00:01\n",
      "   ------------------------------------- -- 10.8/11.6 MB 1.3 MB/s eta 0:00:01\n",
      "   ------------------------------------- -- 10.8/11.6 MB 1.3 MB/s eta 0:00:01\n",
      "   ------------------------------------- -- 10.9/11.6 MB 1.3 MB/s eta 0:00:01\n",
      "   ------------------------------------- -- 11.0/11.6 MB 1.3 MB/s eta 0:00:01\n",
      "   ------------------------------------- -- 11.0/11.6 MB 1.3 MB/s eta 0:00:01\n",
      "   -------------------------------------- - 11.1/11.6 MB 1.2 MB/s eta 0:00:01\n",
      "   -------------------------------------- - 11.2/11.6 MB 1.2 MB/s eta 0:00:01\n",
      "   -------------------------------------- - 11.3/11.6 MB 1.2 MB/s eta 0:00:01\n",
      "   -------------------------------------- - 11.3/11.6 MB 1.2 MB/s eta 0:00:01\n",
      "   ---------------------------------------  11.4/11.6 MB 1.2 MB/s eta 0:00:01\n",
      "   ---------------------------------------  11.5/11.6 MB 1.2 MB/s eta 0:00:01\n",
      "   ---------------------------------------  11.5/11.6 MB 1.2 MB/s eta 0:00:01\n",
      "   ---------------------------------------  11.5/11.6 MB 1.2 MB/s eta 0:00:01\n",
      "   ---------------------------------------  11.5/11.6 MB 1.2 MB/s eta 0:00:01\n",
      "   ---------------------------------------  11.5/11.6 MB 1.2 MB/s eta 0:00:01\n",
      "   ---------------------------------------  11.6/11.6 MB 1.2 MB/s eta 0:00:01\n",
      "   ---------------------------------------  11.6/11.6 MB 1.2 MB/s eta 0:00:01\n",
      "   ---------------------------------------- 11.6/11.6 MB 1.2 MB/s eta 0:00:00\n",
      "Installing collected packages: pandas\n",
      "  Attempting uninstall: pandas\n",
      "    Found existing installation: pandas 2.0.3\n",
      "    Uninstalling pandas-2.0.3:\n",
      "      Successfully uninstalled pandas-2.0.3\n"
     ]
    },
    {
     "name": "stderr",
     "output_type": "stream",
     "text": [
      "ERROR: Could not install packages due to an OSError: [WinError 5] Access is denied: 'C:\\\\ProgramData\\\\anaconda3\\\\Lib\\\\site-packages\\\\~andas\\\\_libs\\\\algos.cp311-win_amd64.pyd'\n",
      "Consider using the `--user` option or check the permissions.\n",
      "\n"
     ]
    },
    {
     "name": "stdout",
     "output_type": "stream",
     "text": [
      "Requirement already satisfied: nbformat in c:\\programdata\\anaconda3\\lib\\site-packages (5.9.2)\n",
      "Requirement already satisfied: fastjsonschema in c:\\programdata\\anaconda3\\lib\\site-packages (from nbformat) (2.16.2)\n",
      "Requirement already satisfied: jsonschema>=2.6 in c:\\programdata\\anaconda3\\lib\\site-packages (from nbformat) (4.17.3)\n",
      "Requirement already satisfied: jupyter-core in c:\\programdata\\anaconda3\\lib\\site-packages (from nbformat) (5.3.0)\n",
      "Requirement already satisfied: traitlets>=5.1 in c:\\programdata\\anaconda3\\lib\\site-packages (from nbformat) (5.7.1)\n",
      "Requirement already satisfied: attrs>=17.4.0 in c:\\programdata\\anaconda3\\lib\\site-packages (from jsonschema>=2.6->nbformat) (22.1.0)\n",
      "Requirement already satisfied: pyrsistent!=0.17.0,!=0.17.1,!=0.17.2,>=0.14.0 in c:\\programdata\\anaconda3\\lib\\site-packages (from jsonschema>=2.6->nbformat) (0.18.0)\n",
      "Requirement already satisfied: platformdirs>=2.5 in c:\\programdata\\anaconda3\\lib\\site-packages (from jupyter-core->nbformat) (3.10.0)\n",
      "Requirement already satisfied: pywin32>=300 in c:\\programdata\\anaconda3\\lib\\site-packages (from jupyter-core->nbformat) (305.1)\n"
     ]
    }
   ],
   "source": [
    "!pip install yfinance==0.2.38\n",
    "!pip install pandas==2.2.2\n",
    "!pip install nbformat"
   ]
  },
  {
   "cell_type": "code",
   "execution_count": 2,
   "metadata": {
    "tags": []
   },
   "outputs": [
    {
     "name": "stdout",
     "output_type": "stream",
     "text": [
      "Collecting yfinance==0.1.67\n",
      "  Obtaining dependency information for yfinance==0.1.67 from https://files.pythonhosted.org/packages/dd/ea/c878476f88405f64dee5aefca5f87d75e88058987d41141c73deecc0b63b/yfinance-0.1.67-py2.py3-none-any.whl.metadata\n",
      "  Downloading yfinance-0.1.67-py2.py3-none-any.whl.metadata (10 kB)\n",
      "Requirement already satisfied: pandas>=0.24 in c:\\programdata\\anaconda3\\lib\\site-packages (from yfinance==0.1.67) (2.2.2)\n",
      "Requirement already satisfied: numpy>=1.15 in c:\\programdata\\anaconda3\\lib\\site-packages (from yfinance==0.1.67) (1.24.3)\n",
      "Requirement already satisfied: requests>=2.20 in c:\\programdata\\anaconda3\\lib\\site-packages (from yfinance==0.1.67) (2.31.0)\n",
      "Requirement already satisfied: multitasking>=0.0.7 in c:\\programdata\\anaconda3\\lib\\site-packages (from yfinance==0.1.67) (0.0.11)\n",
      "Requirement already satisfied: lxml>=4.5.1 in c:\\programdata\\anaconda3\\lib\\site-packages (from yfinance==0.1.67) (4.9.3)\n",
      "Requirement already satisfied: python-dateutil>=2.8.2 in c:\\programdata\\anaconda3\\lib\\site-packages (from pandas>=0.24->yfinance==0.1.67) (2.8.2)\n",
      "Requirement already satisfied: pytz>=2020.1 in c:\\programdata\\anaconda3\\lib\\site-packages (from pandas>=0.24->yfinance==0.1.67) (2023.3.post1)\n",
      "Requirement already satisfied: tzdata>=2022.7 in c:\\programdata\\anaconda3\\lib\\site-packages (from pandas>=0.24->yfinance==0.1.67) (2023.3)\n",
      "Requirement already satisfied: charset-normalizer<4,>=2 in c:\\programdata\\anaconda3\\lib\\site-packages (from requests>=2.20->yfinance==0.1.67) (2.0.4)\n",
      "Requirement already satisfied: idna<4,>=2.5 in c:\\programdata\\anaconda3\\lib\\site-packages (from requests>=2.20->yfinance==0.1.67) (3.4)\n",
      "Requirement already satisfied: urllib3<3,>=1.21.1 in c:\\programdata\\anaconda3\\lib\\site-packages (from requests>=2.20->yfinance==0.1.67) (1.26.16)\n",
      "Requirement already satisfied: certifi>=2017.4.17 in c:\\programdata\\anaconda3\\lib\\site-packages (from requests>=2.20->yfinance==0.1.67) (2024.2.2)\n",
      "Requirement already satisfied: six>=1.5 in c:\\programdata\\anaconda3\\lib\\site-packages (from python-dateutil>=2.8.2->pandas>=0.24->yfinance==0.1.67) (1.16.0)\n",
      "Downloading yfinance-0.1.67-py2.py3-none-any.whl (25 kB)\n",
      "Installing collected packages: yfinance\n",
      "  Attempting uninstall: yfinance\n",
      "    Found existing installation: yfinance 0.2.38\n",
      "    Uninstalling yfinance-0.2.38:\n",
      "      Successfully uninstalled yfinance-0.2.38\n",
      "Successfully installed yfinance-0.1.67\n"
     ]
    },
    {
     "name": "stderr",
     "output_type": "stream",
     "text": [
      "'mamba' is not recognized as an internal or external command,\n",
      "operable program or batch file.\n"
     ]
    },
    {
     "name": "stdout",
     "output_type": "stream",
     "text": [
      "Collecting nbformat==4.2.0\n",
      "  Obtaining dependency information for nbformat==4.2.0 from https://files.pythonhosted.org/packages/f2/fd/f3d5316d3d3c295993cf7d08d0105f2454acef9db363b33b72e3aed0808e/nbformat-4.2.0-py2.py3-none-any.whl.metadata\n",
      "  Downloading nbformat-4.2.0-py2.py3-none-any.whl.metadata (1.1 kB)\n",
      "Requirement already satisfied: ipython-genutils in c:\\programdata\\anaconda3\\lib\\site-packages (from nbformat==4.2.0) (0.2.0)\n",
      "Requirement already satisfied: jsonschema!=2.5.0,>=2.4 in c:\\programdata\\anaconda3\\lib\\site-packages (from nbformat==4.2.0) (4.17.3)\n",
      "Requirement already satisfied: jupyter-core in c:\\programdata\\anaconda3\\lib\\site-packages (from nbformat==4.2.0) (5.3.0)\n",
      "Requirement already satisfied: traitlets>=4.1 in c:\\programdata\\anaconda3\\lib\\site-packages (from nbformat==4.2.0) (5.7.1)\n",
      "Requirement already satisfied: attrs>=17.4.0 in c:\\programdata\\anaconda3\\lib\\site-packages (from jsonschema!=2.5.0,>=2.4->nbformat==4.2.0) (22.1.0)\n",
      "Requirement already satisfied: pyrsistent!=0.17.0,!=0.17.1,!=0.17.2,>=0.14.0 in c:\\programdata\\anaconda3\\lib\\site-packages (from jsonschema!=2.5.0,>=2.4->nbformat==4.2.0) (0.18.0)\n",
      "Requirement already satisfied: platformdirs>=2.5 in c:\\programdata\\anaconda3\\lib\\site-packages (from jupyter-core->nbformat==4.2.0) (3.10.0)\n",
      "Requirement already satisfied: pywin32>=300 in c:\\programdata\\anaconda3\\lib\\site-packages (from jupyter-core->nbformat==4.2.0) (305.1)\n",
      "Downloading nbformat-4.2.0-py2.py3-none-any.whl (153 kB)\n",
      "   ---------------------------------------- 0.0/153.3 kB ? eta -:--:--\n",
      "   ---------------------------------------- 0.0/153.3 kB ? eta -:--:--\n",
      "   -- ------------------------------------- 10.2/153.3 kB ? eta -:--:--\n",
      "   -- ------------------------------------- 10.2/153.3 kB ? eta -:--:--\n",
      "   ------- ------------------------------- 30.7/153.3 kB 262.6 kB/s eta 0:00:01\n",
      "   ------- ------------------------------- 30.7/153.3 kB 262.6 kB/s eta 0:00:01\n",
      "   ---------- ---------------------------- 41.0/153.3 kB 196.9 kB/s eta 0:00:01\n",
      "   --------------- ----------------------- 61.4/153.3 kB 233.8 kB/s eta 0:00:01\n",
      "   ----------------------- --------------- 92.2/153.3 kB 291.5 kB/s eta 0:00:01\n",
      "   ----------------------- --------------- 92.2/153.3 kB 291.5 kB/s eta 0:00:01\n",
      "   --------------------------- ---------- 112.6/153.3 kB 285.2 kB/s eta 0:00:01\n",
      "   -------------------------------------- 153.3/153.3 kB 339.0 kB/s eta 0:00:00\n",
      "Installing collected packages: nbformat\n",
      "  Attempting uninstall: nbformat\n",
      "    Found existing installation: nbformat 5.9.2\n",
      "    Uninstalling nbformat-5.9.2:\n",
      "      Successfully uninstalled nbformat-5.9.2\n",
      "Successfully installed nbformat-4.2.0\n"
     ]
    },
    {
     "name": "stderr",
     "output_type": "stream",
     "text": [
      "ERROR: pip's dependency resolver does not currently take into account all the packages that are installed. This behaviour is the source of the following dependency conflicts.\n",
      "conda-repo-cli 1.0.75 requires requests_mock, which is not installed.\n",
      "anaconda-client 1.12.1 requires nbformat>=4.4.0, but you have nbformat 4.2.0 which is incompatible.\n",
      "conda-repo-cli 1.0.75 requires clyent==1.2.1, but you have clyent 1.2.2 which is incompatible.\n",
      "conda-repo-cli 1.0.75 requires nbformat==5.9.2, but you have nbformat 4.2.0 which is incompatible.\n",
      "conda-repo-cli 1.0.75 requires PyYAML==6.0.1, but you have pyyaml 6.0 which is incompatible.\n",
      "jupyter-server 1.23.4 requires nbformat>=5.2.0, but you have nbformat 4.2.0 which is incompatible.\n",
      "nbclient 0.5.13 requires nbformat>=5.0, but you have nbformat 4.2.0 which is incompatible.\n",
      "nbconvert 6.5.4 requires nbformat>=5.1, but you have nbformat 4.2.0 which is incompatible.\n"
     ]
    },
    {
     "name": "stdout",
     "output_type": "stream",
     "text": [
      "Requirement already satisfied: plotly in c:\\programdata\\anaconda3\\lib\\site-packages (5.9.0)\n",
      "Requirement already satisfied: pandas in c:\\programdata\\anaconda3\\lib\\site-packages (2.2.2)\n",
      "Requirement already satisfied: tenacity>=6.2.0 in c:\\programdata\\anaconda3\\lib\\site-packages (from plotly) (8.2.2)\n",
      "Requirement already satisfied: numpy>=1.23.2 in c:\\programdata\\anaconda3\\lib\\site-packages (from pandas) (1.24.3)\n",
      "Requirement already satisfied: python-dateutil>=2.8.2 in c:\\programdata\\anaconda3\\lib\\site-packages (from pandas) (2.8.2)\n",
      "Requirement already satisfied: pytz>=2020.1 in c:\\programdata\\anaconda3\\lib\\site-packages (from pandas) (2023.3.post1)\n",
      "Requirement already satisfied: tzdata>=2022.7 in c:\\programdata\\anaconda3\\lib\\site-packages (from pandas) (2023.3)\n",
      "Requirement already satisfied: six>=1.5 in c:\\programdata\\anaconda3\\lib\\site-packages (from python-dateutil>=2.8.2->pandas) (1.16.0)\n"
     ]
    }
   ],
   "source": [
    "!pip install yfinance==0.1.67\n",
    "!mamba install bs4==4.10.0 -y\n",
    "!pip install nbformat==4.2.0\n",
    "!pip install plotly pandas"
   ]
  },
  {
   "cell_type": "code",
   "execution_count": 3,
   "metadata": {
    "tags": []
   },
   "outputs": [
    {
     "name": "stderr",
     "output_type": "stream",
     "text": [
      "C:\\ProgramData\\anaconda3\\Lib\\site-packages\\pandas\\core\\arrays\\masked.py:60: UserWarning: Pandas requires version '1.3.6' or newer of 'bottleneck' (version '1.3.5' currently installed).\n",
      "  from pandas.core import (\n"
     ]
    }
   ],
   "source": [
    "import yfinance as yf\n",
    "import pandas as pd\n",
    "import requests\n",
    "from bs4 import BeautifulSoup\n",
    "import plotly.graph_objects as go\n",
    "from plotly.subplots import make_subplots"
   ]
  },
  {
   "cell_type": "markdown",
   "metadata": {},
   "source": [
    "In Python, you can ignore warnings using the warnings module. You can use the filterwarnings function to filter or ignore specific warning messages or categories.\n"
   ]
  },
  {
   "cell_type": "code",
   "execution_count": 8,
   "metadata": {
    "tags": []
   },
   "outputs": [],
   "source": [
    "import warnings\n",
    "# Ignore all warnings\n",
    "warnings.filterwarnings(\"ignore\", category=FutureWarning)"
   ]
  },
  {
   "cell_type": "markdown",
   "metadata": {},
   "source": [
    "## Define Graphing Function\n"
   ]
  },
  {
   "cell_type": "markdown",
   "metadata": {},
   "source": [
    "In this section, we define the function `make_graph`. You don't have to know how the function works, you should only care about the inputs. It takes a dataframe with stock data (dataframe must contain Date and Close columns), a dataframe with revenue data (dataframe must contain Date and Revenue columns), and the name of the stock.\n"
   ]
  },
  {
   "cell_type": "code",
   "execution_count": 9,
   "metadata": {
    "tags": []
   },
   "outputs": [],
   "source": [
    "def make_graph(stock_data, revenue_data, stock):\n",
    "    fig = make_subplots(rows=2, cols=1, shared_xaxes=True, subplot_titles=(\"Historical Share Price\", \"Historical Revenue\"), vertical_spacing = .3)\n",
    "    stock_data_specific = stock_data[stock_data.Date <= '2021--06-14']\n",
    "    revenue_data_specific = revenue_data[revenue_data.Date <= '2021-04-30']\n",
    "    fig.add_trace(go.Scatter(x=pd.to_datetime(stock_data_specific.Date, infer_datetime_format=True), y=stock_data_specific.Close.astype(\"float\"), name=\"Share Price\"), row=1, col=1)\n",
    "    fig.add_trace(go.Scatter(x=pd.to_datetime(revenue_data_specific.Date, infer_datetime_format=True), y=revenue_data_specific.Revenue.astype(\"float\"), name=\"Revenue\"), row=2, col=1)\n",
    "    fig.update_xaxes(title_text=\"Date\", row=1, col=1)\n",
    "    fig.update_xaxes(title_text=\"Date\", row=2, col=1)\n",
    "    fig.update_yaxes(title_text=\"Price ($US)\", row=1, col=1)\n",
    "    fig.update_yaxes(title_text=\"Revenue ($US Millions)\", row=2, col=1)\n",
    "    fig.update_layout(showlegend=False,\n",
    "    height=900,\n",
    "    title=stock,\n",
    "    xaxis_rangeslider_visible=True)\n",
    "    fig.show()"
   ]
  },
  {
   "cell_type": "markdown",
   "metadata": {},
   "source": [
    "## Question 1: Use yfinance to Extract Stock Data\n"
   ]
  },
  {
   "cell_type": "markdown",
   "metadata": {},
   "source": [
    "Using the `Ticker` function enter the ticker symbol of the stock we want to extract data on to create a ticker object. The stock is Tesla and its ticker symbol is `TSLA`.\n"
   ]
  },
  {
   "cell_type": "code",
   "execution_count": 10,
   "metadata": {
    "tags": []
   },
   "outputs": [
    {
     "ename": "AttributeError",
     "evalue": "'Index' object has no attribute 'tz_localize'",
     "output_type": "error",
     "traceback": [
      "\u001b[1;31m---------------------------------------------------------------------------\u001b[0m",
      "\u001b[1;31mAttributeError\u001b[0m                            Traceback (most recent call last)",
      "Cell \u001b[1;32mIn[10], line 4\u001b[0m\n\u001b[0;32m      1\u001b[0m ticker \u001b[38;5;241m=\u001b[39m yf\u001b[38;5;241m.\u001b[39mTicker(\u001b[38;5;124m\"\u001b[39m\u001b[38;5;124mTSLA\u001b[39m\u001b[38;5;124m\"\u001b[39m)\n\u001b[0;32m      3\u001b[0m \u001b[38;5;66;03m# Fetch the historical stock data\u001b[39;00m\n\u001b[1;32m----> 4\u001b[0m stock_data \u001b[38;5;241m=\u001b[39m ticker\u001b[38;5;241m.\u001b[39mhistory(period\u001b[38;5;241m=\u001b[39m\u001b[38;5;124m\"\u001b[39m\u001b[38;5;124mmax\u001b[39m\u001b[38;5;124m\"\u001b[39m)\n",
      "File \u001b[1;32mC:\\ProgramData\\anaconda3\\Lib\\site-packages\\yfinance\\base.py:279\u001b[0m, in \u001b[0;36mTickerBase.history\u001b[1;34m(self, period, interval, start, end, prepost, actions, auto_adjust, back_adjust, proxy, rounding, tz, timeout, **kwargs)\u001b[0m\n\u001b[0;32m    276\u001b[0m df[\u001b[38;5;124m\"\u001b[39m\u001b[38;5;124mStock Splits\u001b[39m\u001b[38;5;124m\"\u001b[39m]\u001b[38;5;241m.\u001b[39mfillna(\u001b[38;5;241m0\u001b[39m, inplace\u001b[38;5;241m=\u001b[39m\u001b[38;5;28;01mTrue\u001b[39;00m)\n\u001b[0;32m    278\u001b[0m \u001b[38;5;66;03m# index eod/intraday\u001b[39;00m\n\u001b[1;32m--> 279\u001b[0m df\u001b[38;5;241m.\u001b[39mindex \u001b[38;5;241m=\u001b[39m df\u001b[38;5;241m.\u001b[39mindex\u001b[38;5;241m.\u001b[39mtz_localize(\u001b[38;5;124m\"\u001b[39m\u001b[38;5;124mUTC\u001b[39m\u001b[38;5;124m\"\u001b[39m)\u001b[38;5;241m.\u001b[39mtz_convert(\n\u001b[0;32m    280\u001b[0m     data[\u001b[38;5;124m\"\u001b[39m\u001b[38;5;124mchart\u001b[39m\u001b[38;5;124m\"\u001b[39m][\u001b[38;5;124m\"\u001b[39m\u001b[38;5;124mresult\u001b[39m\u001b[38;5;124m\"\u001b[39m][\u001b[38;5;241m0\u001b[39m][\u001b[38;5;124m\"\u001b[39m\u001b[38;5;124mmeta\u001b[39m\u001b[38;5;124m\"\u001b[39m][\u001b[38;5;124m\"\u001b[39m\u001b[38;5;124mexchangeTimezoneName\u001b[39m\u001b[38;5;124m\"\u001b[39m])\n\u001b[0;32m    282\u001b[0m \u001b[38;5;28;01mif\u001b[39;00m params[\u001b[38;5;124m\"\u001b[39m\u001b[38;5;124minterval\u001b[39m\u001b[38;5;124m\"\u001b[39m][\u001b[38;5;241m-\u001b[39m\u001b[38;5;241m1\u001b[39m] \u001b[38;5;241m==\u001b[39m \u001b[38;5;124m\"\u001b[39m\u001b[38;5;124mm\u001b[39m\u001b[38;5;124m\"\u001b[39m:\n\u001b[0;32m    283\u001b[0m     df\u001b[38;5;241m.\u001b[39mindex\u001b[38;5;241m.\u001b[39mname \u001b[38;5;241m=\u001b[39m \u001b[38;5;124m\"\u001b[39m\u001b[38;5;124mDatetime\u001b[39m\u001b[38;5;124m\"\u001b[39m\n",
      "\u001b[1;31mAttributeError\u001b[0m: 'Index' object has no attribute 'tz_localize'"
     ]
    }
   ],
   "source": [
    "ticker = yf.Ticker(\"TSLA\")\n",
    "\n",
    "# Fetch the historical stock data\n",
    "stock_data = ticker.history(period=\"max\")"
   ]
  },
  {
   "cell_type": "markdown",
   "metadata": {},
   "source": [
    "Using the ticker object and the function `history` extract stock information and save it in a dataframe named `tesla_data`. Set the `period` parameter to `max` so we get information for the maximum amount of time.\n"
   ]
  },
  {
   "cell_type": "code",
   "execution_count": 12,
   "metadata": {
    "tags": []
   },
   "outputs": [
    {
     "ename": "AttributeError",
     "evalue": "'Index' object has no attribute 'tz_localize'",
     "output_type": "error",
     "traceback": [
      "\u001b[1;31m---------------------------------------------------------------------------\u001b[0m",
      "\u001b[1;31mAttributeError\u001b[0m                            Traceback (most recent call last)",
      "Cell \u001b[1;32mIn[12], line 5\u001b[0m\n\u001b[0;32m      2\u001b[0m ticker \u001b[38;5;241m=\u001b[39m yf\u001b[38;5;241m.\u001b[39mTicker(\u001b[38;5;124m\"\u001b[39m\u001b[38;5;124mTSLA\u001b[39m\u001b[38;5;124m\"\u001b[39m)\n\u001b[0;32m      4\u001b[0m \u001b[38;5;66;03m# Fetch the historical stock data\u001b[39;00m\n\u001b[1;32m----> 5\u001b[0m stock_data \u001b[38;5;241m=\u001b[39m ticker\u001b[38;5;241m.\u001b[39mhistory(period\u001b[38;5;241m=\u001b[39m\u001b[38;5;124m\"\u001b[39m\u001b[38;5;124mmax\u001b[39m\u001b[38;5;124m\"\u001b[39m)\n\u001b[0;32m      7\u001b[0m \u001b[38;5;66;03m# Set the timezone for the index\u001b[39;00m\n\u001b[0;32m      8\u001b[0m stock_data\u001b[38;5;241m.\u001b[39mindex \u001b[38;5;241m=\u001b[39m stock_data\u001b[38;5;241m.\u001b[39mindex\u001b[38;5;241m.\u001b[39mtz_localize(\u001b[38;5;124m\"\u001b[39m\u001b[38;5;124mUTC\u001b[39m\u001b[38;5;124m\"\u001b[39m)\n",
      "File \u001b[1;32mC:\\ProgramData\\anaconda3\\Lib\\site-packages\\yfinance\\base.py:279\u001b[0m, in \u001b[0;36mTickerBase.history\u001b[1;34m(self, period, interval, start, end, prepost, actions, auto_adjust, back_adjust, proxy, rounding, tz, timeout, **kwargs)\u001b[0m\n\u001b[0;32m    276\u001b[0m df[\u001b[38;5;124m\"\u001b[39m\u001b[38;5;124mStock Splits\u001b[39m\u001b[38;5;124m\"\u001b[39m]\u001b[38;5;241m.\u001b[39mfillna(\u001b[38;5;241m0\u001b[39m, inplace\u001b[38;5;241m=\u001b[39m\u001b[38;5;28;01mTrue\u001b[39;00m)\n\u001b[0;32m    278\u001b[0m \u001b[38;5;66;03m# index eod/intraday\u001b[39;00m\n\u001b[1;32m--> 279\u001b[0m df\u001b[38;5;241m.\u001b[39mindex \u001b[38;5;241m=\u001b[39m df\u001b[38;5;241m.\u001b[39mindex\u001b[38;5;241m.\u001b[39mtz_localize(\u001b[38;5;124m\"\u001b[39m\u001b[38;5;124mUTC\u001b[39m\u001b[38;5;124m\"\u001b[39m)\u001b[38;5;241m.\u001b[39mtz_convert(\n\u001b[0;32m    280\u001b[0m     data[\u001b[38;5;124m\"\u001b[39m\u001b[38;5;124mchart\u001b[39m\u001b[38;5;124m\"\u001b[39m][\u001b[38;5;124m\"\u001b[39m\u001b[38;5;124mresult\u001b[39m\u001b[38;5;124m\"\u001b[39m][\u001b[38;5;241m0\u001b[39m][\u001b[38;5;124m\"\u001b[39m\u001b[38;5;124mmeta\u001b[39m\u001b[38;5;124m\"\u001b[39m][\u001b[38;5;124m\"\u001b[39m\u001b[38;5;124mexchangeTimezoneName\u001b[39m\u001b[38;5;124m\"\u001b[39m])\n\u001b[0;32m    282\u001b[0m \u001b[38;5;28;01mif\u001b[39;00m params[\u001b[38;5;124m\"\u001b[39m\u001b[38;5;124minterval\u001b[39m\u001b[38;5;124m\"\u001b[39m][\u001b[38;5;241m-\u001b[39m\u001b[38;5;241m1\u001b[39m] \u001b[38;5;241m==\u001b[39m \u001b[38;5;124m\"\u001b[39m\u001b[38;5;124mm\u001b[39m\u001b[38;5;124m\"\u001b[39m:\n\u001b[0;32m    283\u001b[0m     df\u001b[38;5;241m.\u001b[39mindex\u001b[38;5;241m.\u001b[39mname \u001b[38;5;241m=\u001b[39m \u001b[38;5;124m\"\u001b[39m\u001b[38;5;124mDatetime\u001b[39m\u001b[38;5;124m\"\u001b[39m\n",
      "\u001b[1;31mAttributeError\u001b[0m: 'Index' object has no attribute 'tz_localize'"
     ]
    }
   ],
   "source": [
    "# Create a ticker object for Tesla (TSLA)\n",
    "ticker = yf.Ticker(\"TSLA\")\n",
    "\n",
    "# Fetch the historical stock data\n",
    "stock_data = ticker.history(period=\"max\")\n",
    "\n",
    "# Set the timezone for the index\n",
    "stock_data.index = stock_data.index.tz_localize(\"UTC\")\n",
    "\n",
    "# Save the stock data in a DataFrame named tesla_data\n",
    "tesla_data = pd.DataFrame(stock_data)"
   ]
  },
  {
   "cell_type": "markdown",
   "metadata": {},
   "source": [
    "**Reset the index** using the `reset_index(inplace=True)` function on the tesla_data DataFrame and display the first five rows of the `tesla_data` dataframe using the `head` function. Take a screenshot of the results and code from the beginning of Question 1 to the results below.\n"
   ]
  },
  {
   "cell_type": "code",
   "execution_count": null,
   "metadata": {
    "tags": []
   },
   "outputs": [],
   "source": [
    "tesla_data.reset_index(inplace=True)\n",
    "tesla_data.head()"
   ]
  },
  {
   "cell_type": "markdown",
   "metadata": {},
   "source": [
    "## Question 2: Use Webscraping to Extract Tesla Revenue Data\n"
   ]
  },
  {
   "cell_type": "markdown",
   "metadata": {},
   "source": [
    "Use the `requests` library to download the webpage https://cf-courses-data.s3.us.cloud-object-storage.appdomain.cloud/IBMDeveloperSkillsNetwork-PY0220EN-SkillsNetwork/labs/project/revenue.htm Save the text of the response as a variable named `html_data`.\n"
   ]
  },
  {
   "cell_type": "code",
   "execution_count": null,
   "metadata": {
    "tags": []
   },
   "outputs": [],
   "source": [
    "url = \"https://cf-courses-data.s3.us.cloud-object-storage.appdomain.cloud/IBMDeveloperSkillsNetwork-PY0220EN-SkillsNetwork/labs/project/revenue.htm\"\n",
    "\n",
    "response = requests.get(url)\n",
    "\n",
    "html_data = response.text"
   ]
  },
  {
   "cell_type": "markdown",
   "metadata": {},
   "source": [
    "Parse the html data using `beautiful_soup`.\n"
   ]
  },
  {
   "cell_type": "code",
   "execution_count": null,
   "metadata": {
    "tags": []
   },
   "outputs": [],
   "source": [
    "soup = BeautifulSoup(html_data, 'html.parser')"
   ]
  },
  {
   "cell_type": "markdown",
   "metadata": {},
   "source": [
    "Using `BeautifulSoup` or the `read_html` function extract the table with `Tesla Revenue` and store it into a dataframe named `tesla_revenue`. The dataframe should have columns `Date` and `Revenue`.\n"
   ]
  },
  {
   "cell_type": "markdown",
   "metadata": {},
   "source": [
    "<details><summary>Click here if you need help locating the table</summary>\n",
    "\n",
    "```\n",
    "    \n",
    "Below is the code to isolate the table, you will now need to loop through the rows and columns like in the previous lab\n",
    "    \n",
    "soup.find_all(\"tbody\")[1]\n",
    "    \n",
    "If you want to use the read_html function the table is located at index 1\n",
    "\n",
    "We are focusing on quarterly revenue in the lab.\n",
    "```\n",
    "\n",
    "</details>\n"
   ]
  },
  {
   "cell_type": "code",
   "execution_count": null,
   "metadata": {
    "tags": []
   },
   "outputs": [],
   "source": [
    "read_html_pandas_data = pd.read_html(url)\n",
    "\n",
    "read_html_pandas_data = pd.read_html(str(soup))\n",
    "\n",
    "tesla_revenue = read_html_pandas_data[1]\n",
    "\n",
    "tesla_revenue.columns = [\"Date\", \"Revenue\"]\n",
    "\n",
    "tesla_revenue.head()"
   ]
  },
  {
   "cell_type": "markdown",
   "metadata": {},
   "source": [
    "Execute the following line to remove the comma and dollar sign from the `Revenue` column. \n"
   ]
  },
  {
   "cell_type": "code",
   "execution_count": null,
   "metadata": {
    "tags": []
   },
   "outputs": [],
   "source": [
    "tesla_revenue[\"Revenue\"] = tesla_revenue['Revenue'].str.replace(',|\\$',\"\")"
   ]
  },
  {
   "cell_type": "markdown",
   "metadata": {},
   "source": [
    "Execute the following lines to remove an null or empty strings in the Revenue column.\n"
   ]
  },
  {
   "cell_type": "code",
   "execution_count": null,
   "metadata": {
    "tags": []
   },
   "outputs": [],
   "source": [
    "tesla_revenue.dropna(inplace=True)\n",
    "\n",
    "tesla_revenue = tesla_revenue[tesla_revenue['Revenue'] != \"\"]"
   ]
  },
  {
   "cell_type": "markdown",
   "metadata": {},
   "source": [
    "Display the last 5 row of the `tesla_revenue` dataframe using the `tail` function. Take a screenshot of the results.\n"
   ]
  },
  {
   "cell_type": "code",
   "execution_count": null,
   "metadata": {
    "tags": []
   },
   "outputs": [],
   "source": [
    "tesla_revenue.tail(5)"
   ]
  },
  {
   "cell_type": "markdown",
   "metadata": {},
   "source": [
    "## Question 3: Use yfinance to Extract Stock Data\n"
   ]
  },
  {
   "cell_type": "markdown",
   "metadata": {},
   "source": [
    "Using the `Ticker` function enter the ticker symbol of the stock we want to extract data on to create a ticker object. The stock is GameStop and its ticker symbol is `GME`.\n"
   ]
  },
  {
   "cell_type": "code",
   "execution_count": null,
   "metadata": {
    "tags": []
   },
   "outputs": [],
   "source": [
    "gme_ticker = yf.Ticker('GME')"
   ]
  },
  {
   "cell_type": "markdown",
   "metadata": {},
   "source": [
    "Using the ticker object and the function `history` extract stock information and save it in a dataframe named `gme_data`. Set the `period` parameter to `max` so we get information for the maximum amount of time.\n"
   ]
  },
  {
   "cell_type": "code",
   "execution_count": null,
   "metadata": {
    "tags": []
   },
   "outputs": [],
   "source": [
    "gme_data = gme_ticker.history(period='max')"
   ]
  },
  {
   "cell_type": "markdown",
   "metadata": {},
   "source": [
    "**Reset the index** using the `reset_index(inplace=True)` function on the gme_data DataFrame and display the first five rows of the `gme_data` dataframe using the `head` function. Take a screenshot of the results and code from the beginning of Question 3 to the results below.\n"
   ]
  },
  {
   "cell_type": "code",
   "execution_count": null,
   "metadata": {
    "tags": []
   },
   "outputs": [],
   "source": [
    "gme_data.reset_index(inplace=True)\n",
    "gme_data.head(5)"
   ]
  },
  {
   "cell_type": "markdown",
   "metadata": {},
   "source": [
    "## Question 4: Use Webscraping to Extract GME Revenue Data\n"
   ]
  },
  {
   "cell_type": "markdown",
   "metadata": {},
   "source": [
    "Use the `requests` library to download the webpage https://cf-courses-data.s3.us.cloud-object-storage.appdomain.cloud/IBMDeveloperSkillsNetwork-PY0220EN-SkillsNetwork/labs/project/stock.html. Save the text of the response as a variable named `html_data`.\n"
   ]
  },
  {
   "cell_type": "code",
   "execution_count": null,
   "metadata": {
    "tags": []
   },
   "outputs": [],
   "source": [
    "# URL of the webpage to download\n",
    "url = 'https://cf-courses-data.s3.us.cloud-object-storage.appdomain.cloud/IBMDeveloperSkillsNetwork-PY0220EN-SkillsNetwork/labs/project/stock.html'\n",
    "\n",
    "# Send a GET request to the URL\n",
    "response = requests.get(url)\n",
    "\n",
    "# Get the text content of the response\n",
    "html_data = response.text"
   ]
  },
  {
   "cell_type": "markdown",
   "metadata": {},
   "source": [
    "Parse the html data using `beautiful_soup`.\n"
   ]
  },
  {
   "cell_type": "code",
   "execution_count": null,
   "metadata": {
    "tags": []
   },
   "outputs": [],
   "source": [
    "soup = BeautifulSoup(html_data, 'html.parser')"
   ]
  },
  {
   "cell_type": "markdown",
   "metadata": {},
   "source": [
    "Using `BeautifulSoup` or the `read_html` function extract the table with `GameStop Revenue` and store it into a dataframe named `gme_revenue`. The dataframe should have columns `Date` and `Revenue`. Make sure the comma and dollar sign is removed from the `Revenue` column using a method similar to what you did in Question 2.\n"
   ]
  },
  {
   "cell_type": "markdown",
   "metadata": {},
   "source": [
    "<details><summary>Click here if you need help locating the table</summary>\n",
    "\n",
    "```\n",
    "    \n",
    "Below is the code to isolate the table, you will now need to loop through the rows and columns like in the previous lab\n",
    "    \n",
    "soup.find_all(\"tbody\")[1]\n",
    "    \n",
    "If you want to use the read_html function the table is located at index 1\n",
    "\n",
    "\n",
    "```\n",
    "\n",
    "</details>\n"
   ]
  },
  {
   "cell_type": "code",
   "execution_count": null,
   "metadata": {
    "tags": []
   },
   "outputs": [],
   "source": [
    "read_html_pandas_data = pd.read_html(url)\n",
    "\n",
    "read_html_pandas_data = pd.read_html(str(soup))\n",
    "\n",
    "gme_revenue = read_html_pandas_data[1]\n",
    "\n",
    "gme_revenue.columns = [\"Date\", \"Revenue\"]\n",
    "\n",
    "gme_revenue[\"Revenue\"] = gme_revenue['Revenue'].str.replace(',|\\$',\"\")\n",
    "\n",
    "gme_revenue.head()"
   ]
  },
  {
   "cell_type": "markdown",
   "metadata": {},
   "source": [
    "Display the last five rows of the `gme_revenue` dataframe using the `tail` function. Take a screenshot of the results.\n"
   ]
  },
  {
   "cell_type": "code",
   "execution_count": null,
   "metadata": {
    "tags": []
   },
   "outputs": [],
   "source": [
    "gme_revenue.tail(5)"
   ]
  },
  {
   "cell_type": "markdown",
   "metadata": {},
   "source": [
    "## Question 5: Plot Tesla Stock Graph\n"
   ]
  },
  {
   "cell_type": "markdown",
   "metadata": {},
   "source": [
    "Use the `make_graph` function to graph the Tesla Stock Data, also provide a title for the graph. The structure to call the `make_graph` function is `make_graph(tesla_data, tesla_revenue, 'Tesla')`. Note the graph will only show data upto June 2021.\n"
   ]
  },
  {
   "cell_type": "code",
   "execution_count": null,
   "metadata": {
    "tags": []
   },
   "outputs": [],
   "source": [
    "def make_graph(tesla_data, tesla_revenue, Telsa):\n",
    "    fig = make_subplots(rows=2, cols=1, shared_xaxes=True, subplot_titles=(\"Historical Share Price\", \"Historical Revenue\"), vertical_spacing = .3)\n",
    "    tesla_data_specific = tesla_data[tesla_data.Date <= '2021--06-30']\n",
    "    tesla_revenue_specific = tesla_revenue[tesla_revenue.Date <= '2021-06-30']\n",
    "    fig.add_trace(go.Scatter(x=pd.to_datetime(tesla_data_specific.Date, infer_datetime_format=True), y=tesla_data_specific.Close.astype(\"float\"), name=\"Share Price\"), row=1, col=1)\n",
    "    fig.add_trace(go.Scatter(x=pd.to_datetime(tesla_revenue_specific.Date, infer_datetime_format=True), y=tesla_revenue_specific.Revenue.astype(\"float\"), name=\"Revenue\"), row=2, col=1)\n",
    "    fig.update_xaxes(title_text=\"Date\", row=1, col=1)\n",
    "    fig.update_xaxes(title_text=\"Date\", row=2, col=1)\n",
    "    fig.update_yaxes(title_text=\"Price ($US)\", row=1, col=1)\n",
    "    fig.update_yaxes(title_text=\"Revenue ($US Millions)\", row=2, col=1)\n",
    "    fig.update_layout(showlegend=False,\n",
    "    height=900,\n",
    "    title=stock,\n",
    "    xaxis_rangeslider_visible=True)\n",
    "    \n",
    "    fig.show()"
   ]
  },
  {
   "cell_type": "markdown",
   "metadata": {},
   "source": [
    "## Question 6: Plot GameStop Stock Graph\n"
   ]
  },
  {
   "cell_type": "markdown",
   "metadata": {},
   "source": [
    "Use the `make_graph` function to graph the GameStop Stock Data, also provide a title for the graph. The structure to call the `make_graph` function is `make_graph(gme_data, gme_revenue, 'GameStop')`. Note the graph will only show data upto June 2021.\n"
   ]
  },
  {
   "cell_type": "code",
   "execution_count": null,
   "metadata": {
    "tags": []
   },
   "outputs": [],
   "source": [
    "def make_graph(gme_data, gme_revenue, GameStop):\n",
    "    fig = make_subplots(rows=2, cols=1, shared_xaxes=True, subplot_titles=(\"Historical Share Price\", \"Historical Revenue\"), vertical_spacing = .3)\n",
    "    gme_data_specific = gme_data[gme_data.Date <= '2021--06-30']\n",
    "    gme_revenue_specific = gme_revenue[gme_revenue.Date <= '2021-06-30']\n",
    "    fig.add_trace(go.Scatter(x=pd.to_datetime(gme_data_specific.Date, infer_datetime_format=True), y=gme_data_specific.Close.astype(\"float\"), name=\"Share Price\"), row=1, col=1)\n",
    "    fig.add_trace(go.Scatter(x=pd.to_datetime(gme_revenue_specific.Date, infer_datetime_format=True), y=gme_revenue_specific.Revenue.astype(\"float\"), name=\"Revenue\"), row=2, col=1)\n",
    "    fig.update_xaxes(title_text=\"Date\", row=1, col=1)\n",
    "    fig.update_xaxes(title_text=\"Date\", row=2, col=1)\n",
    "    fig.update_yaxes(title_text=\"Price ($US)\", row=1, col=1)\n",
    "    fig.update_yaxes(title_text=\"Revenue ($US Millions)\", row=2, col=1)\n",
    "    fig.update_layout(showlegend=False,\n",
    "    height=900,\n",
    "    title=stock,\n",
    "    xaxis_rangeslider_visible=True)\n",
    "    fig.show()"
   ]
  },
  {
   "cell_type": "markdown",
   "metadata": {},
   "source": [
    "<h2>About the Authors:</h2> \n",
    "\n",
    "<a href=\"https://www.linkedin.com/in/joseph-s-50398b136/\">Joseph Santarcangelo</a> has a PhD in Electrical Engineering, his research focused on using machine learning, signal processing, and computer vision to determine how videos impact human cognition. Joseph has been working for IBM since he completed his PhD.\n",
    "\n",
    "Azim Hirjani\n"
   ]
  },
  {
   "cell_type": "markdown",
   "metadata": {},
   "source": [
    "## Change Log\n",
    "\n",
    "| Date (YYYY-MM-DD) | Version | Changed By    | Change Description        |\n",
    "| ----------------- | ------- | ------------- | ------------------------- |\n",
    "| 2022-02-28        | 1.2     | Lakshmi Holla | Changed the URL of GameStop |\n",
    "| 2020-11-10        | 1.1     | Malika Singla | Deleted the Optional part |\n",
    "| 2020-08-27        | 1.0     | Malika Singla | Added lab to GitLab       |\n",
    "\n",
    "<hr>\n",
    "\n",
    "## <h3 align=\"center\"> © IBM Corporation 2020. All rights reserved. <h3/>\n",
    "\n",
    "<p>\n"
   ]
  }
 ],
 "metadata": {
  "kernelspec": {
   "display_name": "Python 3 (ipykernel)",
   "language": "python",
   "name": "python3"
  },
  "language_info": {
   "codemirror_mode": {
    "name": "ipython",
    "version": 3
   },
   "file_extension": ".py",
   "mimetype": "text/x-python",
   "name": "python",
   "nbconvert_exporter": "python",
   "pygments_lexer": "ipython3",
   "version": "3.11.5"
  },
  "prev_pub_hash": "d60eaefd251a42ab1a22dc6c749e72b12de1a0381ae08b532fc47118a00a5394"
 },
 "nbformat": 4,
 "nbformat_minor": 4
}
